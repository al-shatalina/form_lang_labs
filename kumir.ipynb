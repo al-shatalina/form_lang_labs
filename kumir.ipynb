{
 "cells": [
  {
   "cell_type": "code",
   "execution_count": 1,
   "id": "017ac012",
   "metadata": {},
   "outputs": [],
   "source": [
    "from lark import Lark, Transformer, v_args"
   ]
  },
  {
   "cell_type": "code",
   "execution_count": 2,
   "id": "fc67593b",
   "metadata": {},
   "outputs": [],
   "source": [
    "kumir_robot = \"\"\"\n",
    "    start: \"использовать\" \"Робот\"i alg+\n",
    "\n",
    "    alg: \"алг\" name body \n",
    "\n",
    "    name: CHAR | CHAR name\n",
    "    \n",
    "    body: \"нач\" command+ \"кон\"\n",
    "\n",
    "    command: cycle | (action\";\")* action | if_expression \n",
    "\n",
    "    action: /(вперед| вперёд)/i | /назад/i | /влево/i | /вправо/i | /закрасить/i\n",
    "\n",
    "    cycle: \"нц\" (NUM /раз/ | /пока/ condition | for_cycle) command+ (\"кц\" | \"кц_при\" condition)\n",
    "\n",
    "    for_cycle: /для/ VAR /от/ NUM /до/ NUM\n",
    "\n",
    "    condition: NOT? direction wall\n",
    "\n",
    "    wall: /свободно/ | /стена/\n",
    "\n",
    "    direction: /слева/i | /справа/i | /сверху/i | /снизу/i\n",
    "\n",
    "    if_expression: \"если\" condition \"то\" command+ \"все\" \n",
    "\n",
    "    NOT: /не/\n",
    "\n",
    "    CHAR: /[|а-яА-Я0-9\" \"]+/\n",
    "\n",
    "    VAR: /[a-zA-Z]/\n",
    "\n",
    "    NUM: /[0-9]+/\n",
    "\n",
    "%import common.NEWLINE\n",
    "%import common.WS_INLINE\n",
    "%ignore WS_INLINE\n",
    "%ignore NEWLINE\n",
    "\"\"\""
   ]
  },
  {
   "cell_type": "code",
   "execution_count": 3,
   "id": "d8fb625f",
   "metadata": {},
   "outputs": [],
   "source": [
    "parser = Lark(kumir_robot, parser='lalr', transformer=None)"
   ]
  },
  {
   "cell_type": "code",
   "execution_count": 4,
   "id": "181ab000",
   "metadata": {},
   "outputs": [],
   "source": [
    "class KumirTransformer(Transformer):\n",
    "    \n",
    "    def start(self, items):\n",
    "        return f'Используем Робот с алгоритмом:\\n{items[1]}'\n",
    "\n",
    "    def alg(self, items):\n",
    "        return f'Алгоритм {items[0]}:\\n{items[1]}'\n",
    "\n",
    "    def body(self, items):\n",
    "        return '\\n'.join(items)\n",
    "\n",
    "    def command(self, items):\n",
    "        return '\\n'.join(items)\n",
    "\n",
    "    def action(self, items):\n",
    "        return f'Действие: {items[0]}'\n",
    "\n",
    "    def cycle(self, items):\n",
    "        cycle_type = 'раз' if isinstance(items[1], str) else 'пока'\n",
    "        return f'Цикл {cycle_type}: {items[2]}'\n",
    "\n",
    "    def if_expression(self, items):\n",
    "        return f'Если {items[0]}, то:\\n{\"\\n\".join(items[2:-1])}'\n"
   ]
  },
  {
   "cell_type": "code",
   "execution_count": 5,
   "id": "a5cd59d2",
   "metadata": {},
   "outputs": [
    {
     "name": "stdout",
     "output_type": "stream",
     "text": [
      "Parsed Tree: start\n",
      "  alg\n",
      "    name\t ура\n",
      "    body\n",
      "      command\n",
      "        cycle\n",
      "          пока\n",
      "          condition\n",
      "            direction\tсверху\n",
      "            wall\tсвободно\n",
      "          command\n",
      "            if_expression\n",
      "              condition\n",
      "                не\n",
      "                direction\tсправа\n",
      "                wall\tсвободно\n",
      "              command\n",
      "                action\tзакрасить\n",
      "      command\n",
      "        action\tзакрасить\n",
      "      command\n",
      "        cycle\n",
      "          3\n",
      "          раз\n",
      "          command\n",
      "            action\tвлево\n",
      "\n",
      "Ошибка при разборе ввода: Error trying to process rule \"start\":\n",
      "\n",
      "list index out of range\n"
     ]
    }
   ],
   "source": [
    "input_string = \"\"\"\n",
    "использовать Робот \n",
    "алг ура\n",
    "нач\n",
    "нц пока сверху свободно \n",
    "  если не справа свободно то\n",
    "    закрасить\n",
    "  все\n",
    "кц\n",
    "закрасить\n",
    "нц 3 раз\n",
    "влево\n",
    "кц\n",
    "кон\n",
    "\"\"\"\n",
    "\n",
    "try:\n",
    "    # Парсинг входной строки и вывод результата\n",
    "    parsed_tree = parser.parse(input_string)\n",
    "    \n",
    "    # Отладочный вывод структуры дерева разбора\n",
    "    print(\"Parsed Tree:\", parsed_tree.pretty())\n",
    "    \n",
    "    transformed_result = KumirTransformer().transform(parsed_tree)\n",
    "    \n",
    "    print(transformed_result)\n",
    "except Exception as e:\n",
    "    print(f\"Ошибка при разборе ввода: {e}\")"
   ]
  },
  {
   "cell_type": "code",
   "execution_count": null,
   "id": "d384b689",
   "metadata": {},
   "outputs": [],
   "source": []
  }
 ],
 "metadata": {
  "kernelspec": {
   "display_name": "Python 3",
   "language": "python",
   "name": "python3"
  },
  "language_info": {
   "codemirror_mode": {
    "name": "ipython",
    "version": 3
   },
   "file_extension": ".py",
   "mimetype": "text/x-python",
   "name": "python",
   "nbconvert_exporter": "python",
   "pygments_lexer": "ipython3",
   "version": "3.12.6"
  }
 },
 "nbformat": 4,
 "nbformat_minor": 5
}
