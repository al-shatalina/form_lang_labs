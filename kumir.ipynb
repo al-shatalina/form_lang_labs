{
 "cells": [
  {
   "cell_type": "code",
   "execution_count": 150,
   "id": "017ac012",
   "metadata": {},
   "outputs": [],
   "source": [
    "import lark\n",
    "from lark import Lark, Transformer, v_args"
   ]
  },
  {
   "cell_type": "code",
   "execution_count": 151,
   "id": "fc67593b",
   "metadata": {},
   "outputs": [],
   "source": [
    "kumir_robot = \"\"\"\n",
    "    start: \"использовать\" \"Робот\"i alg+\n",
    "\n",
    "    alg: \"алг\" name body \n",
    "\n",
    "    name: CHAR | CHAR name\n",
    "    \n",
    "    body: \"нач\" command+ \"кон\"\n",
    "\n",
    "    command: cycle | (action\";\")* action | if_expression \n",
    "\n",
    "    action: /вверх/i | /вниз/i | /влево/i | /вправо/i | /закрасить/i\n",
    "\n",
    "    cycle: \"нц\" (NUM \"раз\" | while_cycle) command+ (\"кц\" | \"кц_при\" condition)\n",
    "\n",
    "    while_cycle: \"пока\" condition\n",
    "\n",
    "    condition: NOT? direction wall\n",
    "\n",
    "    wall: /свободно/i | /стена/i\n",
    "\n",
    "    direction: /слева/i | /справа/i | /сверху/i | /снизу/i\n",
    "\n",
    "    if_expression: \"если\" condition \"то\" command+ (else_expression | \"все\")\n",
    "\n",
    "    else_expression: \"иначе\" command+ \"все\"\n",
    "\n",
    "    NOT: \"не\"\n",
    "\n",
    "    CHAR: /[|а-яА-Я0-9\" \"]+/\n",
    "\n",
    "    VAR: /[a-zA-Z]/\n",
    "\n",
    "    NUM: /[0-9]+/\n",
    "\n",
    "%import common.NEWLINE\n",
    "%import common.WS_INLINE\n",
    "%ignore WS_INLINE\n",
    "%ignore NEWLINE\n",
    "\"\"\""
   ]
  },
  {
   "cell_type": "code",
   "execution_count": 152,
   "id": "4abdd21f",
   "metadata": {},
   "outputs": [],
   "source": [
    "class RobotInterpreter(Transformer):\n",
    "\n",
    "    def start(self, items):\n",
    "        return '...'\n",
    "\n",
    "    def alg(self, items):\n",
    "        name = items[0]\n",
    "        body = items[1]\n",
    "        print(f\"Парсинг алгоритма{name} завершен успешно.\")\n",
    "        return body\n",
    "\n",
    "    def name(self, items):\n",
    "        return ''.join(str(item) for item in items)\n",
    "\n",
    "    def action(self, token):\n",
    "        act = str(token[0]).lower()\n",
    "        print(f\"Обнаружено действие: {act}\")\n",
    "\n",
    "    def cycle(self, items):\n",
    "        cycle_type = items[0]\n",
    "        commands = items[1]\n",
    "        if cycle_type[0] == 'while':\n",
    "            print(f\"Обнаружен цикл типа пока\")\n",
    "            return ('while', cycle_type[1], commands)\n",
    "        else:\n",
    "            count = cycle_type\n",
    "            print(f\"Обнаружен цикл типа повторение {count} раз\")\n",
    "            return ('repeat', count, commands)\n",
    "\n",
    "    def while_cycle(self, items):\n",
    "        condition = items[0]\n",
    "        return ('while', condition)\n",
    "\n",
    "    def condition(self, items):\n",
    "        if len(items)==2:\n",
    "            negation = False\n",
    "            direction = items[0]\n",
    "            wall = items[1]\n",
    "        else:\n",
    "            negation = True\n",
    "            direction = items[1]\n",
    "            wall = items[2]\n",
    "        if negation:\n",
    "            print(f\"Обнаружено условие: {direction} не {wall}\")\n",
    "        else:\n",
    "            print(f\"Обнаружено условие: {direction} {wall}\")\n",
    "\n",
    "    def wall(self, token):\n",
    "        return str(token[0]).lower()\n",
    "\n",
    "    def direction(self, token):\n",
    "        return str(token[0]).lower()\n",
    "\n",
    "    def NOT(self, token):\n",
    "        return str(token)"
   ]
  },
  {
   "cell_type": "code",
   "execution_count": 189,
   "id": "bfa439b9",
   "metadata": {},
   "outputs": [],
   "source": [
    "class RobotUglyInterpreter(Transformer):\n",
    "\n",
    "    def start(self, items):\n",
    "        return {\"algorithms\": items}\n",
    "\n",
    "    def alg(self, items):\n",
    "        name = items[0]\n",
    "        body = items[1]\n",
    "        return {\"type\": \"алгоритм\", \"name\": name, \"body\": body}\n",
    "\n",
    "    def name(self, items):\n",
    "        return ''.join(items)\n",
    "\n",
    "    def body(self, items):\n",
    "        return {\"commands\": items}\n",
    "\n",
    "    def command(self, items):\n",
    "        return items\n",
    "\n",
    "    def action(self, token):\n",
    "        return {\"type\": \"action\", \"name\": str(token[0]).lower()}\n",
    "\n",
    "    def cycle(self, items):\n",
    "        if isinstance(items[0], tuple) and items[0][0] == 'while':\n",
    "            _, condition = items[0]\n",
    "            commands = items[1:]\n",
    "            return {\n",
    "                \"type\": \"пока\",\n",
    "                \"condition\": condition,\n",
    "                \"body\": commands\n",
    "            }\n",
    "        else:\n",
    "            count = items[0]\n",
    "            commands = items[1:]\n",
    "            return {\n",
    "                \"type\": \"повтор\",\n",
    "                \"count\": count,\n",
    "                \"body\": commands\n",
    "            }\n",
    "\n",
    "    def while_cycle(self, items):\n",
    "        return ('while', items[0])\n",
    "\n",
    "    def condition(self, items):\n",
    "        if len(items) == 2:\n",
    "            negation = ''\n",
    "            direction, wall = items\n",
    "        else:\n",
    "            negation = 'не'\n",
    "            _, direction, wall = items\n",
    "        return {\n",
    "            \"negation\": negation,\n",
    "            \"direction\": direction,\n",
    "            \"wall\": wall\n",
    "        }\n",
    "\n",
    "    def wall(self, token):\n",
    "        return str(token[0]).lower()\n",
    "\n",
    "    def direction(self, token):\n",
    "        return str(token[0]).lower()\n",
    "\n",
    "    def NOT(self, token):\n",
    "        return str(token[0])\n",
    "\n",
    "    def if_expression(self, items):\n",
    "        condition = items[0]\n",
    "        commands = []\n",
    "        else_branch = []\n",
    "\n",
    "        found_else = False\n",
    "        for item in items[1:]:\n",
    "            if isinstance(item, dict) and item.get(\"type\") == \"else\":\n",
    "                else_branch = item[\"body\"]\n",
    "                found_else = True\n",
    "            else:\n",
    "                commands.append(item)\n",
    "\n",
    "        return {\n",
    "            \"type\": \"если\",\n",
    "            \"condition\": condition,\n",
    "            \"then\": commands,\n",
    "            \"else\": else_branch if found_else else None\n",
    "        }\n",
    "\n",
    "    def else_expression(self, items):\n",
    "        return {\"type\": \"иначе\", \"body\": items}"
   ]
  },
  {
   "cell_type": "code",
   "execution_count": 190,
   "id": "fd66522a",
   "metadata": {},
   "outputs": [],
   "source": [
    "def prettify(tree, indent=\"\\t\"):\n",
    "    print(\"algorithms\")\n",
    "    for alg in tree[\"algorithms\"]:\n",
    "        _prettify_(alg, indent=indent)\n",
    "\n",
    "def _prettify_(tree, depth=1, indent=\"\\t\"):\n",
    "\n",
    "    if isinstance(tree, list):\n",
    "        for item in tree:\n",
    "            _prettify_(item, depth=depth, indent=indent)\n",
    "        return\n",
    "\n",
    "    if isinstance(tree, dict):\n",
    "        for k, v in tree.items():\n",
    "            print(indent * depth + k, end=\"\")\n",
    "\n",
    "            if isinstance(v, str):\n",
    "                print(\":\" + indent + v)\n",
    "            else:\n",
    "                print()\n",
    "                _prettify_(v, depth=depth + 1, indent=indent)\n"
   ]
  },
  {
   "cell_type": "code",
   "execution_count": 191,
   "id": "56adc4b4",
   "metadata": {},
   "outputs": [],
   "source": [
    "parser = Lark(kumir_robot, start='start', parser='lalr')"
   ]
  },
  {
   "cell_type": "code",
   "execution_count": 192,
   "id": "e2ed418d",
   "metadata": {},
   "outputs": [],
   "source": [
    "input_string = \"\"\"\n",
    "использовать Робот \n",
    "алг ура\n",
    "нач\n",
    "нц пока сверху свободно \n",
    "  если не справа свободно то\n",
    "    закрасить\n",
    "  все\n",
    "кц\n",
    "закрасить\n",
    "нц 3 раз\n",
    "влево\n",
    "кц\n",
    "кон\n",
    "\"\"\""
   ]
  },
  {
   "cell_type": "code",
   "execution_count": 193,
   "id": "33c8d428",
   "metadata": {},
   "outputs": [
    {
     "name": "stdout",
     "output_type": "stream",
     "text": [
      "Parsed Tree: start\n",
      "  alg\n",
      "    name\t ура\n",
      "    body\n",
      "      command\n",
      "        cycle\n",
      "          while_cycle\n",
      "            condition\n",
      "              direction\tсверху\n",
      "              wall\tсвободно\n",
      "          command\n",
      "            if_expression\n",
      "              condition\n",
      "                не\n",
      "                direction\tсправа\n",
      "                wall\tсвободно\n",
      "              command\n",
      "                action\tзакрасить\n",
      "      command\n",
      "        action\tзакрасить\n",
      "      command\n",
      "        cycle\n",
      "          3\n",
      "          command\n",
      "            action\tвлево\n",
      "\n"
     ]
    }
   ],
   "source": [
    "try:\n",
    "    parsed_tree = parser.parse(input_string)\n",
    "    print(\"Parsed Tree:\", parsed_tree.pretty())\n",
    "except Exception as e:\n",
    "    print(f\"Ошибка при разборе ввода: {e}\")"
   ]
  },
  {
   "cell_type": "code",
   "execution_count": 194,
   "id": "2157c3d9",
   "metadata": {},
   "outputs": [
    {
     "name": "stdout",
     "output_type": "stream",
     "text": [
      "Обнаружено условие: сверху свободно\n",
      "Обнаружено условие: справа не свободно\n",
      "Обнаружено действие: закрасить\n",
      "Обнаружен цикл типа пока\n",
      "Обнаружено действие: закрасить\n",
      "Обнаружено действие: влево\n",
      "Обнаружен цикл типа повторение 3 раз\n",
      "Парсинг алгоритма ура завершен успешно.\n",
      "...\n"
     ]
    }
   ],
   "source": [
    "transformed_result = RobotInterpreter().transform(parsed_tree)\n",
    "print(transformed_result)"
   ]
  },
  {
   "cell_type": "code",
   "execution_count": 195,
   "id": "900b5e60",
   "metadata": {},
   "outputs": [
    {
     "data": {
      "text/plain": [
       "{'algorithms': [{'type': 'алгоритм',\n",
       "   'name': ' ура',\n",
       "   'body': {'commands': [[{'type': 'пока',\n",
       "       'condition': {'negation': '',\n",
       "        'direction': 'сверху',\n",
       "        'wall': 'свободно'},\n",
       "       'body': [[{'type': 'если',\n",
       "          'condition': {'negation': 'не',\n",
       "           'direction': 'справа',\n",
       "           'wall': 'свободно'},\n",
       "          'then': [[{'type': 'action', 'name': 'закрасить'}]],\n",
       "          'else': None}]]}],\n",
       "     [{'type': 'action', 'name': 'закрасить'}],\n",
       "     [{'type': 'повтор',\n",
       "       'count': Token('NUM', '3'),\n",
       "       'body': [[{'type': 'action', 'name': 'влево'}]]}]]}}]}"
      ]
     },
     "execution_count": 195,
     "metadata": {},
     "output_type": "execute_result"
    }
   ],
   "source": [
    "transformed_result = RobotUglyInterpreter().transform(parsed_tree)\n",
    "transformed_result"
   ]
  },
  {
   "cell_type": "code",
   "execution_count": 196,
   "id": "986b7f40",
   "metadata": {},
   "outputs": [
    {
     "name": "stdout",
     "output_type": "stream",
     "text": [
      "algorithms\n",
      "\ttype:\tалгоритм\n",
      "\tname:\t ура\n",
      "\tbody\n",
      "\t\tcommands\n",
      "\t\t\ttype:\tпока\n",
      "\t\t\tcondition\n",
      "\t\t\t\tnegation:\t\n",
      "\t\t\t\tdirection:\tсверху\n",
      "\t\t\t\twall:\tсвободно\n",
      "\t\t\tbody\n",
      "\t\t\t\ttype:\tесли\n",
      "\t\t\t\tcondition\n",
      "\t\t\t\t\tnegation:\tне\n",
      "\t\t\t\t\tdirection:\tсправа\n",
      "\t\t\t\t\twall:\tсвободно\n",
      "\t\t\t\tthen\n",
      "\t\t\t\t\ttype:\taction\n",
      "\t\t\t\t\tname:\tзакрасить\n",
      "\t\t\t\telse\n",
      "\t\t\ttype:\taction\n",
      "\t\t\tname:\tзакрасить\n",
      "\t\t\ttype:\tповтор\n",
      "\t\t\tcount:\t3\n",
      "\t\t\tbody\n",
      "\t\t\t\ttype:\taction\n",
      "\t\t\t\tname:\tвлево\n"
     ]
    }
   ],
   "source": [
    "prettify(transformed_result)"
   ]
  },
  {
   "cell_type": "code",
   "execution_count": 197,
   "id": "c85d4a93",
   "metadata": {},
   "outputs": [],
   "source": [
    "input_string = \"\"\"\n",
    "использовать Робот\n",
    "алг из А в Б\n",
    "нач\n",
    "    вправо\n",
    "    нц 5 раз\n",
    "        вверх; вверх; вправо; вниз; вниз; вправо\n",
    "    кц\n",
    "кон\n",
    "\"\"\""
   ]
  },
  {
   "cell_type": "code",
   "execution_count": 198,
   "id": "847ef215",
   "metadata": {},
   "outputs": [
    {
     "name": "stdout",
     "output_type": "stream",
     "text": [
      "Parsed Tree: start\n",
      "  alg\n",
      "    name\t из А в Б\n",
      "    body\n",
      "      command\n",
      "        action\tвправо\n",
      "      command\n",
      "        cycle\n",
      "          5\n",
      "          command\n",
      "            action\tвверх\n",
      "            action\tвверх\n",
      "            action\tвправо\n",
      "            action\tвниз\n",
      "            action\tвниз\n",
      "            action\tвправо\n",
      "\n"
     ]
    }
   ],
   "source": [
    "try:\n",
    "    parsed_tree = parser.parse(input_string)\n",
    "    print(\"Parsed Tree:\", parsed_tree.pretty())\n",
    "except Exception as e:\n",
    "    print(f\"Ошибка при разборе ввода: {e}\")\n"
   ]
  },
  {
   "cell_type": "code",
   "execution_count": 199,
   "id": "de6326c3",
   "metadata": {},
   "outputs": [
    {
     "name": "stdout",
     "output_type": "stream",
     "text": [
      "Обнаружено действие: вправо\n",
      "Обнаружено действие: вверх\n",
      "Обнаружено действие: вверх\n",
      "Обнаружено действие: вправо\n",
      "Обнаружено действие: вниз\n",
      "Обнаружено действие: вниз\n",
      "Обнаружено действие: вправо\n",
      "Обнаружен цикл типа повторение 5 раз\n",
      "Парсинг алгоритма из А в Б завершен успешно.\n",
      "...\n"
     ]
    }
   ],
   "source": [
    "transformed_result = RobotInterpreter().transform(parsed_tree)\n",
    "print(transformed_result)"
   ]
  },
  {
   "cell_type": "code",
   "execution_count": 200,
   "id": "17d8958a",
   "metadata": {},
   "outputs": [
    {
     "data": {
      "text/plain": [
       "{'algorithms': [{'type': 'алгоритм',\n",
       "   'name': ' из А в Б',\n",
       "   'body': {'commands': [[{'type': 'action', 'name': 'вправо'}],\n",
       "     [{'type': 'повтор',\n",
       "       'count': Token('NUM', '5'),\n",
       "       'body': [[{'type': 'action', 'name': 'вверх'},\n",
       "         {'type': 'action', 'name': 'вверх'},\n",
       "         {'type': 'action', 'name': 'вправо'},\n",
       "         {'type': 'action', 'name': 'вниз'},\n",
       "         {'type': 'action', 'name': 'вниз'},\n",
       "         {'type': 'action', 'name': 'вправо'}]]}]]}}]}"
      ]
     },
     "execution_count": 200,
     "metadata": {},
     "output_type": "execute_result"
    }
   ],
   "source": [
    "transformed_result = RobotUglyInterpreter().transform(parsed_tree)\n",
    "transformed_result"
   ]
  },
  {
   "cell_type": "code",
   "execution_count": 201,
   "id": "1511e1bd",
   "metadata": {},
   "outputs": [
    {
     "name": "stdout",
     "output_type": "stream",
     "text": [
      "algorithms\n",
      "\ttype:\tалгоритм\n",
      "\tname:\t из А в Б\n",
      "\tbody\n",
      "\t\tcommands\n",
      "\t\t\ttype:\taction\n",
      "\t\t\tname:\tвправо\n",
      "\t\t\ttype:\tповтор\n",
      "\t\t\tcount:\t5\n",
      "\t\t\tbody\n",
      "\t\t\t\ttype:\taction\n",
      "\t\t\t\tname:\tвверх\n",
      "\t\t\t\ttype:\taction\n",
      "\t\t\t\tname:\tвверх\n",
      "\t\t\t\ttype:\taction\n",
      "\t\t\t\tname:\tвправо\n",
      "\t\t\t\ttype:\taction\n",
      "\t\t\t\tname:\tвниз\n",
      "\t\t\t\ttype:\taction\n",
      "\t\t\t\tname:\tвниз\n",
      "\t\t\t\ttype:\taction\n",
      "\t\t\t\tname:\tвправо\n"
     ]
    }
   ],
   "source": [
    "prettify(transformed_result)"
   ]
  },
  {
   "cell_type": "code",
   "execution_count": 202,
   "id": "0235c639",
   "metadata": {},
   "outputs": [],
   "source": [
    "input_string = \"\"\"\n",
    "использовать Робот\n",
    "алг ААА\n",
    "нач\n",
    "    вправо\n",
    "    нц 5 раз\n",
    "        если сверху свободно то\n",
    "            вверх; вверх; вправо; вниз; вниз; вправо\n",
    "        иначе\n",
    "            закрасить\n",
    "            вправо\n",
    "        все\n",
    "    кц\n",
    "кон\n",
    "\"\"\""
   ]
  },
  {
   "cell_type": "code",
   "execution_count": 203,
   "id": "3eafe596",
   "metadata": {},
   "outputs": [
    {
     "name": "stdout",
     "output_type": "stream",
     "text": [
      "Parsed Tree: start\n",
      "  alg\n",
      "    name\t ААА\n",
      "    body\n",
      "      command\n",
      "        action\tвправо\n",
      "      command\n",
      "        cycle\n",
      "          5\n",
      "          command\n",
      "            if_expression\n",
      "              condition\n",
      "                direction\tсверху\n",
      "                wall\tсвободно\n",
      "              command\n",
      "                action\tвверх\n",
      "                action\tвверх\n",
      "                action\tвправо\n",
      "                action\tвниз\n",
      "                action\tвниз\n",
      "                action\tвправо\n",
      "              else_expression\n",
      "                command\n",
      "                  action\tзакрасить\n",
      "                command\n",
      "                  action\tвправо\n",
      "\n"
     ]
    }
   ],
   "source": [
    "try:\n",
    "    parsed_tree = parser.parse(input_string)\n",
    "    print(\"Parsed Tree:\", parsed_tree.pretty())\n",
    "except Exception as e:\n",
    "    print(f\"Ошибка при разборе ввода: {e}\")\n"
   ]
  },
  {
   "cell_type": "code",
   "execution_count": 204,
   "id": "ed84ca07",
   "metadata": {},
   "outputs": [
    {
     "name": "stdout",
     "output_type": "stream",
     "text": [
      "Обнаружено действие: вправо\n",
      "Обнаружено условие: сверху свободно\n",
      "Обнаружено действие: вверх\n",
      "Обнаружено действие: вверх\n",
      "Обнаружено действие: вправо\n",
      "Обнаружено действие: вниз\n",
      "Обнаружено действие: вниз\n",
      "Обнаружено действие: вправо\n",
      "Обнаружено действие: закрасить\n",
      "Обнаружено действие: вправо\n",
      "Обнаружен цикл типа повторение 5 раз\n",
      "Парсинг алгоритма ААА завершен успешно.\n",
      "...\n"
     ]
    }
   ],
   "source": [
    "transformed_result = RobotInterpreter().transform(parsed_tree)\n",
    "print(transformed_result)"
   ]
  },
  {
   "cell_type": "code",
   "execution_count": 205,
   "id": "ffb7f0ff",
   "metadata": {},
   "outputs": [
    {
     "data": {
      "text/plain": [
       "{'algorithms': [{'type': 'алгоритм',\n",
       "   'name': ' ААА',\n",
       "   'body': {'commands': [[{'type': 'action', 'name': 'вправо'}],\n",
       "     [{'type': 'повтор',\n",
       "       'count': Token('NUM', '5'),\n",
       "       'body': [[{'type': 'если',\n",
       "          'condition': {'negation': '',\n",
       "           'direction': 'сверху',\n",
       "           'wall': 'свободно'},\n",
       "          'then': [[{'type': 'action', 'name': 'вверх'},\n",
       "            {'type': 'action', 'name': 'вверх'},\n",
       "            {'type': 'action', 'name': 'вправо'},\n",
       "            {'type': 'action', 'name': 'вниз'},\n",
       "            {'type': 'action', 'name': 'вниз'},\n",
       "            {'type': 'action', 'name': 'вправо'}],\n",
       "           {'type': 'иначе',\n",
       "            'body': [[{'type': 'action', 'name': 'закрасить'}],\n",
       "             [{'type': 'action', 'name': 'вправо'}]]}],\n",
       "          'else': None}]]}]]}}]}"
      ]
     },
     "execution_count": 205,
     "metadata": {},
     "output_type": "execute_result"
    }
   ],
   "source": [
    "transformed_result = RobotUglyInterpreter().transform(parsed_tree)\n",
    "transformed_result"
   ]
  },
  {
   "cell_type": "code",
   "execution_count": 188,
   "id": "a33a1380",
   "metadata": {},
   "outputs": [
    {
     "name": "stdout",
     "output_type": "stream",
     "text": [
      "algorithms\n",
      "\ttype:\tалгоритм\n",
      "\tname:\t ААА\n",
      "\tbody\n",
      "\t\tcommands\n",
      "\t\t\ttype:\taction\n",
      "\t\t\tname:\tвправо\n",
      "\t\t\ttype:\tповтор\n",
      "\t\t\tcount:\t5\n",
      "\t\t\tbody\n",
      "\t\t\t\ttype:\tесли\n",
      "\t\t\t\tcondition\n",
      "\t\t\t\t\tnegation:\t\n",
      "\t\t\t\t\tdirection:\tсверху\n",
      "\t\t\t\t\twall:\tсвободно\n",
      "\t\t\t\tthen\n",
      "\t\t\t\t\ttype:\taction\n",
      "\t\t\t\t\tname:\tвверх\n",
      "\t\t\t\t\ttype:\taction\n",
      "\t\t\t\t\tname:\tвверх\n",
      "\t\t\t\t\ttype:\taction\n",
      "\t\t\t\t\tname:\tвправо\n",
      "\t\t\t\t\ttype:\taction\n",
      "\t\t\t\t\tname:\tвниз\n",
      "\t\t\t\t\ttype:\taction\n",
      "\t\t\t\t\tname:\tвниз\n",
      "\t\t\t\t\ttype:\taction\n",
      "\t\t\t\t\tname:\tвправо\n",
      "\t\t\t\t\ttype:\tиначе\n",
      "\t\t\t\t\tbody\n",
      "\t\t\t\t\t\ttype:\taction\n",
      "\t\t\t\t\t\tname:\tзакрасить\n",
      "\t\t\t\t\t\ttype:\taction\n",
      "\t\t\t\t\t\tname:\tвправо\n",
      "\t\t\t\telse\n"
     ]
    }
   ],
   "source": [
    " prettify(transformed_result)"
   ]
  },
  {
   "cell_type": "code",
   "execution_count": null,
   "id": "b7d3ee8e",
   "metadata": {},
   "outputs": [],
   "source": []
  }
 ],
 "metadata": {
  "kernelspec": {
   "display_name": "Python 3",
   "language": "python",
   "name": "python3"
  },
  "language_info": {
   "codemirror_mode": {
    "name": "ipython",
    "version": 3
   },
   "file_extension": ".py",
   "mimetype": "text/x-python",
   "name": "python",
   "nbconvert_exporter": "python",
   "pygments_lexer": "ipython3",
   "version": "3.12.6"
  }
 },
 "nbformat": 4,
 "nbformat_minor": 5
}
